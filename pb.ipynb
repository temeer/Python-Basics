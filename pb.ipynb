{
 "cells": [
  {
   "cell_type": "markdown",
   "metadata": {},
   "source": [
    "#Задание 1"
   ]
  },
  {
   "cell_type": "code",
   "execution_count": 14,
   "metadata": {},
   "outputs": [
    {
     "name": "stdout",
     "output_type": "stream",
     "text": [
      "Timur\n",
      "Murad\n"
     ]
    }
   ],
   "source": [
    "phrase_1 = input()\n",
    "phrase_2 = input()"
   ]
  },
  {
   "cell_type": "code",
   "execution_count": 16,
   "metadata": {},
   "outputs": [
    {
     "name": "stdout",
     "output_type": "stream",
     "text": [
      "Фразы равной длины\n"
     ]
    }
   ],
   "source": [
    "if len(phrase_1) > len(phrase_2):\n",
    "    print('Фраза 1 длиннее фразы 2')\n",
    "elif len(phrase_1) < len(phrase_2):\n",
    "        print('Фраза 2 длиннее фразы 1')\n",
    "elif len(phrase_1) == len(phrase_2):\n",
    "        print(\"Фразы равной длины\")"
   ]
  },
  {
   "cell_type": "markdown",
   "metadata": {},
   "source": [
    "#Задание 2\n"
   ]
  },
  {
   "cell_type": "code",
   "execution_count": 23,
   "metadata": {},
   "outputs": [
    {
     "name": "stdout",
     "output_type": "stream",
     "text": [
      "4000\n",
      "Високосный\n"
     ]
    }
   ],
   "source": [
    "year = int(input())\n",
    "vis = False\n",
    "if (year % 4) == 0:\n",
    "    if (year % 100 != 0):\n",
    "        vis = True\n",
    "    elif (year % 400 == 0):\n",
    "        vis = True\n",
    "if vis:\n",
    "    print('Високосный')\n",
    "else:\n",
    "    print('Не високосный')"
   ]
  },
  {
   "cell_type": "markdown",
   "metadata": {},
   "source": [
    "#Задание 3"
   ]
  },
  {
   "cell_type": "code",
   "execution_count": 35,
   "metadata": {},
   "outputs": [
    {
     "name": "stdout",
     "output_type": "stream",
     "text": [
      "Enter day:22\n",
      "Enter month:September\n"
     ]
    }
   ],
   "source": [
    "day = int(input(\"Enter day:\").lower())\n",
    "month = input(\"Enter month:\").lower()\n"
   ]
  },
  {
   "cell_type": "code",
   "execution_count": 37,
   "metadata": {},
   "outputs": [
    {
     "name": "stdout",
     "output_type": "stream",
     "text": [
      "Your zodiac sign is:\n",
      "Libra\n"
     ]
    }
   ],
   "source": [
    "print(\"Your zodiac sign is:\")\n",
    "if (month == \"april\" and day <= 20) or (month == \"march\" and day > 20):\n",
    "    print (\"Aries\")\n",
    "elif (month == \"april\" and day > 20) or (month == \"may\" and day <= 20):\n",
    "    print (\"Taurus\")\n",
    "elif (month == \"may\" and day > 20) or (month == \"june\" and day <= 21) : \n",
    "    print (\"Gemini\")\n",
    "elif (month == \"june\" and day > 21) or (month == \"july\" and day <= 22):\n",
    "    print (\"Cancer\")\n",
    "elif (month == \"july\" and day > 22) or (month == \"august\" and day <= 22):\n",
    "    print (\"Leo\")\n",
    "elif (month == \"august\" and day > 22) or (month == \"september\" and day <= 21):\n",
    "    print (\"Virgo\")\n",
    "elif (month == \"september\" and day > 21) or (month == \"october\" and day <=22):\n",
    "    print (\"Libra\")\n",
    "elif (month == \"october\" and day > 22) or (month == \"november\" and day <= 22):\n",
    "    print (\"Scorpio\")\n",
    "elif (month == \"november\" and day > 22) or (month == \"december\" and day <= 21):\n",
    "    print (\"Sagittarius\")\n",
    "elif (month == \"december\" and day > 21) or (month == \"january\" and day <= 20):\n",
    "    print (\"Capricorn\")\n",
    "elif (month == \"january\" and day > 20) or (month == \"february\" and day <=19):\n",
    "    print (\"Aquarius\")\n",
    "elif (month == \"february\" and day > 19) or (month == \"march\" and day <= 20):\n",
    "    print (\"Pisces\")"
   ]
  },
  {
   "cell_type": "markdown",
   "metadata": {},
   "source": [
    "#Задание 4\n"
   ]
  },
  {
   "cell_type": "code",
   "execution_count": 43,
   "metadata": {},
   "outputs": [
    {
     "name": "stdout",
     "output_type": "stream",
     "text": [
      "1 \n",
      "12\n",
      "14\n"
     ]
    }
   ],
   "source": [
    "width = float(input())\n",
    "length = float(input())\n",
    "height = float(input())"
   ]
  },
  {
   "cell_type": "code",
   "execution_count": 44,
   "metadata": {
    "scrolled": true
   },
   "outputs": [
    {
     "name": "stdout",
     "output_type": "stream",
     "text": [
      "Коробка №1\n"
     ]
    }
   ],
   "source": [
    "if length >= 200:\n",
    "    print(\"Упаковка для лыж\") \n",
    "else:\n",
    "    if (length <= 15) and (width <= 15) and (height <= 15):\n",
    "        print(\"Коробка №1\")\n",
    "    else:\n",
    "        if ((width <= 50) or (height <= 50) or (length <= 50)):\n",
    "            print(\"Коробка №2\")\n",
    "        else: \n",
    "            print(\"Стандартная коробка №3\")"
   ]
  },
  {
   "cell_type": "markdown",
   "metadata": {},
   "source": [
    "#Задание 5\n",
    "\n",
    "Дана переменная, в которой хранится шестизначное число (номер проездного билета). Напишите программу, которая будет определять, является ли данный билет “счастливым”. Билет считается счастливым, если сумма первых трех цифр совпадает с суммой последних трех цифр номера.\n",
    "\n",
    "Примеры работы программы:\n",
    "\n",
    "number = 123456\n",
    "Результат:\n",
    "Неасчастливый билет\n",
    "\n",
    "number = 123321\n",
    "Результат:\n",
    "Счастливый билет"
   ]
  },
  {
   "cell_type": "code",
   "execution_count": 46,
   "metadata": {},
   "outputs": [
    {
     "name": "stdout",
     "output_type": "stream",
     "text": [
      "1000\n",
      "0\n",
      "0\n",
      "1\n"
     ]
    }
   ],
   "source": [
    "number = int(input())\n",
    "a1 = (number // 100000) \n",
    "a2 = (number // 10000) \n",
    "a3 = (number // 1000) \n",
    "a2 = a2 % 10\n",
    "a3 = (a3 % 100) % 10\n",
    "print(a1)\n",
    "print(a2)\n",
    "print(a3)"
   ]
  },
  {
   "cell_type": "code",
   "execution_count": 47,
   "metadata": {},
   "outputs": [
    {
     "name": "stdout",
     "output_type": "stream",
     "text": [
      "0\n",
      "0\n",
      "0\n"
     ]
    }
   ],
   "source": [
    "b1 = number % 10\n",
    "b2 = (number % 100) // 10\n",
    "b3 = (number % 1000) // 100\n",
    "print(b3)\n",
    "print(b2)\n",
    "print(b1)"
   ]
  },
  {
   "cell_type": "code",
   "execution_count": 50,
   "metadata": {},
   "outputs": [
    {
     "name": "stdout",
     "output_type": "stream",
     "text": [
      "Несчастливый билет\n"
     ]
    }
   ],
   "source": [
    "if a1 + a2 + a3 == b1 + b2 + b3:\n",
    "    print (\"Счастливый билет \")\n",
    "else:\n",
    "    print (\"Несчастливый билет\")"
   ]
  },
  {
   "cell_type": "markdown",
   "metadata": {},
   "source": [
    "#Задание 6\n",
    "Напишите программу, которая сможет вычислять площади трех фигур (круг, треугольник и прямоугольник). Тип фигуры запрашиваем через пользовательский ввод, после чего делаем запрос характеристик фигуры:\n",
    "\n",
    "если пользователь выбрал круг, запрашиваем его радиус,\n",
    "если треугольник – длины трех его сторон;\n",
    "если прямоугольник – длины двух его сторон.\n",
    "Пример работы программы:\n",
    "\n",
    "Введите тип фигуры:\n",
    "Круг\n",
    "\n",
    "Введите радиус круга:\n",
    "10\n",
    "Результат:\n",
    "Площадь круга: 314.16\n",
    "\n",
    "Введите тип фигуры:\n",
    "Треугольник\n",
    "\n",
    "Введите длину стороны A:\n",
    "2\n",
    "\n",
    "Введите длину стороны B:\n",
    "2\n",
    "\n",
    "Введите длину стороны C:\n",
    "3\n",
    "Результат:\n",
    "Площадь треугольника: 1.98\n"
   ]
  },
  {
   "cell_type": "code",
   "execution_count": 51,
   "metadata": {},
   "outputs": [
    {
     "name": "stdout",
     "output_type": "stream",
     "text": [
      "Enter the figure type\n",
      "circle\n",
      "Enter radius\n",
      "3\n",
      "28.274333882308138\n"
     ]
    }
   ],
   "source": [
    "import math\n",
    "print(\"Enter the figure type\")\n",
    "FigType = str(input())\n",
    "if FigType.lower() == \"circle\":\n",
    "    print(\"Enter radius\")\n",
    "    r = float(input())\n",
    "    s = math.pi * (r ** 2)\n",
    "if FigType.lower() == \"triangle\":\n",
    "    print (\"Enter 3 sides\")\n",
    "    a = float(input())\n",
    "    b = float(input())\n",
    "    c = float(input())\n",
    "    p = a + b + c\n",
    "    s = math.sqrt(p * (p-a) * (p-b) * (p-c))\n",
    "if FigType.lower() == \"rectangle\":\n",
    "    print(\"Enter side values:\")\n",
    "    a = float(input())\n",
    "    b = float(input())\n",
    "    s = a * b\n",
    "\n",
    "print(s)\n",
    "    \n",
    "    \n"
   ]
  },
  {
   "cell_type": "code",
   "execution_count": null,
   "metadata": {},
   "outputs": [],
   "source": []
  }
 ],
 "metadata": {
  "kernelspec": {
   "display_name": "Python 3",
   "language": "python",
   "name": "python3"
  },
  "language_info": {
   "codemirror_mode": {
    "name": "ipython",
    "version": 3
   },
   "file_extension": ".py",
   "mimetype": "text/x-python",
   "name": "python",
   "nbconvert_exporter": "python",
   "pygments_lexer": "ipython3",
   "version": "3.8.3"
  }
 },
 "nbformat": 4,
 "nbformat_minor": 2
}
