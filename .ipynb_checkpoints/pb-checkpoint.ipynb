{
 "cells": [
  {
   "cell_type": "markdown",
   "metadata": {},
   "source": [
    "#Задание 1"
   ]
  },
  {
   "cell_type": "code",
   "execution_count": 1,
   "metadata": {},
   "outputs": [
    {
     "name": "stdout",
     "output_type": "stream",
     "text": [
      "1\n",
      "2\n"
     ]
    }
   ],
   "source": [
    "phrase_1 = input()\n",
    "phrase_2 = input()"
   ]
  },
  {
   "cell_type": "code",
   "execution_count": 2,
   "metadata": {},
   "outputs": [],
   "source": [
    "if len(phrase_1)>len(phrase_2):\n",
    "    print('Фраза 1 длиннее фразы 2')"
   ]
  },
  {
   "cell_type": "code",
   "execution_count": 3,
   "metadata": {},
   "outputs": [],
   "source": [
    "if len(phrase_1)<len(phrase_2):\n",
    "    print('Фраза 2 длиннее фразы 1')\n",
    "    "
   ]
  },
  {
   "cell_type": "code",
   "execution_count": 4,
   "metadata": {},
   "outputs": [
    {
     "name": "stdout",
     "output_type": "stream",
     "text": [
      "Фразы равной длины\n"
     ]
    }
   ],
   "source": [
    "if len(phrase_1) == len(phrase_2):\n",
    "        print(\"Фразы равной длины\")\n"
   ]
  },
  {
   "cell_type": "markdown",
   "metadata": {},
   "source": [
    "#Задание 2\n"
   ]
  },
  {
   "cell_type": "code",
   "execution_count": 43,
   "metadata": {},
   "outputs": [],
   "source": [
    "year = 2004"
   ]
  },
  {
   "cell_type": "code",
   "execution_count": 44,
   "metadata": {},
   "outputs": [
    {
     "name": "stdout",
     "output_type": "stream",
     "text": [
      "Високосный\n"
     ]
    }
   ],
   "source": [
    "if (year%4) == 0:\n",
    "    print(\"Високосный\")\n",
    "else:\n",
    "    print(\"Не високосный\")"
   ]
  },
  {
   "cell_type": "markdown",
   "metadata": {},
   "source": [
    "#Задание 3"
   ]
  },
  {
   "cell_type": "code",
   "execution_count": 11,
   "metadata": {},
   "outputs": [
    {
     "name": "stdout",
     "output_type": "stream",
     "text": [
      "Enter day:\n",
      "21\n",
      "Enter month:\n",
      "january\n"
     ]
    }
   ],
   "source": [
    "print(\"Enter day:\")\n",
    "Day = input()\n",
    "print(\"Enter month:\")\n",
    "Month = input()\n"
   ]
  },
  {
   "cell_type": "code",
   "execution_count": 12,
   "metadata": {},
   "outputs": [
    {
     "name": "stdout",
     "output_type": "stream",
     "text": [
      "Your zodiac sign is:\n",
      "Aquarius\n"
     ]
    }
   ],
   "source": [
    "print(\"Your zodiac sign is:\")\n",
    "if (Month.lower() == \"april\"):\n",
    "    if int(Day)<=20:\n",
    "        print (\"Aries\")\n",
    "    else:\n",
    "        print(\"Taurus\")\n",
    "if (Month.lower() == \"may\"):\n",
    "    if int(Day)<=20:\n",
    "        print (\"Taurus\")\n",
    "    else:\n",
    "        print(\"Gemini\")\n",
    "if (Month.lower() == \"june\"):\n",
    "    if int(Day)<=21:\n",
    "        print (\"Gemini\")\n",
    "    else:\n",
    "        print(\"Cancer\")\n",
    "if (Month.lower() == \"july\"):\n",
    "    if int(Day)<=22:\n",
    "        print (\"Cancer\")\n",
    "    else:\n",
    "        print(\"Leo\")\n",
    "if (Month.lower() == \"august\"):\n",
    "    if int(Day)<=22:\n",
    "        print (\"Leo\")\n",
    "    else:\n",
    "        print(\"Virgo\")\n",
    "if (Month.lower() == \"september\"):\n",
    "    if int(Day)<=21:\n",
    "        print (\"Virgo\")\n",
    "    else:\n",
    "        print(\"Libra\")\n",
    "if (Month.lower() == \"october\"):\n",
    "    if int(Day)<=22:\n",
    "        print (\"Libra\")\n",
    "    else:\n",
    "        print(\"Scorpio\")\n",
    "if (Month.lower() == \"november\"):\n",
    "    if int(Day)<=22:\n",
    "        print (\"Scorpio\")\n",
    "    else:\n",
    "        print(\"Sagittarius\")\n",
    "if (Month.lower() == \"december\"):\n",
    "    if int(Day)<=21:\n",
    "        print (\"Sagittarius\")\n",
    "    else:\n",
    "        print(\"Capricorn\")\n",
    "if (Month.lower() == \"january\"):\n",
    "    if int(Day)<=20:\n",
    "        print (\"Capricorn\")\n",
    "    else:\n",
    "        print(\"Aquarius\")\n",
    "if (Month.lower() == \"february\"):\n",
    "    if int(Day)<=19:\n",
    "        print (\"Aquarius\")\n",
    "    else:\n",
    "        print(\"Pisces\")\n",
    "if (Month.lower() == \"march\"):\n",
    "    if int(Day)<=20:\n",
    "        print (\"Pisces\")\n",
    "    else:\n",
    "        print(\"Aries\")"
   ]
  },
  {
   "cell_type": "markdown",
   "metadata": {},
   "source": [
    "#Задание 4\n"
   ]
  },
  {
   "cell_type": "code",
   "execution_count": 8,
   "metadata": {},
   "outputs": [
    {
     "name": "stdout",
     "output_type": "stream",
     "text": [
      "10\n",
      "10\n",
      "10\n"
     ]
    }
   ],
   "source": [
    "width = float(input())\n",
    "length = float(input())\n",
    "height = float(input())"
   ]
  },
  {
   "cell_type": "code",
   "execution_count": 9,
   "metadata": {},
   "outputs": [
    {
     "name": "stdout",
     "output_type": "stream",
     "text": [
      "Коробка №1\n"
     ]
    }
   ],
   "source": [
    "if length>=200:\n",
    "    print(\"Упаковка для лыж\") \n",
    "else:\n",
    "    if (length<=15)and(width<=15)and(height<=15):\n",
    "        print(\"Коробка №1\")\n",
    "    else:\n",
    "        if ((width<=50) or (height<=50) or (length <=50)):\n",
    "            print(\"Коробка №2\")\n",
    "        else: \n",
    "            print(\"Стандартная коробка №3\")"
   ]
  },
  {
   "cell_type": "markdown",
   "metadata": {},
   "source": [
    "#Задание 5\n",
    "\n",
    "Дана переменная, в которой хранится шестизначное число (номер проездного билета). Напишите программу, которая будет определять, является ли данный билет “счастливым”. Билет считается счастливым, если сумма первых трех цифр совпадает с суммой последних трех цифр номера.\n",
    "\n",
    "Примеры работы программы:\n",
    "\n",
    "number = 123456\n",
    "Результат:\n",
    "Неасчастливый билет\n",
    "\n",
    "number = 123321\n",
    "Результат:\n",
    "Счастливый билет"
   ]
  },
  {
   "cell_type": "code",
   "execution_count": 31,
   "metadata": {},
   "outputs": [
    {
     "name": "stdout",
     "output_type": "stream",
     "text": [
      "123321\n",
      "1\n",
      "2\n",
      "3\n"
     ]
    }
   ],
   "source": [
    "number = int(input())\n",
    "a1 = (number // 100000) \n",
    "a2 = (number // 10000) \n",
    "a3 = (number // 1000) \n",
    "a2=a2%10\n",
    "a3=(a3%100)%10\n",
    "\n",
    "print(a1)\n",
    "print(a2)\n",
    "print(a3)"
   ]
  },
  {
   "cell_type": "code",
   "execution_count": 38,
   "metadata": {},
   "outputs": [
    {
     "name": "stdout",
     "output_type": "stream",
     "text": [
      "3\n",
      "2\n",
      "1\n"
     ]
    }
   ],
   "source": [
    "b1=number%10\n",
    "b2=((number%100)//10)\n",
    "b3=((number%1000)//100)\n",
    "print(b3)\n",
    "print(b2)\n",
    "print(b1)"
   ]
  },
  {
   "cell_type": "code",
   "execution_count": 33,
   "metadata": {},
   "outputs": [
    {
     "name": "stdout",
     "output_type": "stream",
     "text": [
      "Счастливый билет \n"
     ]
    }
   ],
   "source": [
    "if (a1+a2+a3)==(b1+b2+b3):\n",
    "    print (\"Счастливый билет \")\n",
    "else:\n",
    "    print (\"Несчастливый билет\")"
   ]
  },
  {
   "cell_type": "code",
   "execution_count": null,
   "metadata": {},
   "outputs": [],
   "source": []
  }
 ],
 "metadata": {
  "kernelspec": {
   "display_name": "Python 3",
   "language": "python",
   "name": "python3"
  },
  "language_info": {
   "codemirror_mode": {
    "name": "ipython",
    "version": 3
   },
   "file_extension": ".py",
   "mimetype": "text/x-python",
   "name": "python",
   "nbconvert_exporter": "python",
   "pygments_lexer": "ipython3",
   "version": "3.7.4"
  }
 },
 "nbformat": 4,
 "nbformat_minor": 2
}
